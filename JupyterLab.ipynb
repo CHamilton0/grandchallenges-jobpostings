{
 "cells": [
  {
   "cell_type": "markdown",
   "metadata": {},
   "source": [
    "# Australian Job Postings"
   ]
  },
  {
   "cell_type": "code",
   "execution_count": 2,
   "metadata": {},
   "outputs": [],
   "source": [
    "import pandas as pd\n",
    "import folium\n",
    "from plotly.offline import iplot\n",
    "import plotly.figure_factory as ff\n",
    "import plotly.graph_objects as go\n",
    "import numpy as np\n",
    "import plotly.express as px\n",
    "import matplotlib.pyplot as plt\n",
    "\n",
    "import ipywidgets as widgets\n",
    "from IPython.display import display\n",
    "from IPython.display import clear_output"
   ]
  },
  {
   "cell_type": "code",
   "execution_count": 3,
   "metadata": {},
   "outputs": [],
   "source": [
    "jobs = pd.read_csv(\"./jpo-coded.csv\", encoding='latin1')\n",
    "seek = pd.read_csv(\"./2018seek.csv\", encoding='latin1')\n",
    "locs = pd.read_csv(\"./Location.csv\", encoding='latin1')\n",
    "sloc = pd.read_csv(\"./SeekLocs.csv\", encoding='latin1')\n",
    "jobs.columns = [col.replace(' ', '_').lower() for col in jobs.columns]\n",
    "locs.columns = [col.replace(' ', '_').lower() for col in locs.columns]\n",
    "seek.columns = [col.replace(' ', '_').lower() for col in seek.columns]\n",
    "sloc.columns = [col.replace(' ', '_').lower() for col in sloc.columns]"
   ]
  },
  {
   "cell_type": "code",
   "execution_count": 4,
   "metadata": {},
   "outputs": [],
   "source": [
    "lat = locs.set_index('location').to_dict()['lat']\n",
    "long = locs.set_index('location').to_dict()['long']\n",
    "slat = sloc.set_index('location').to_dict()['lat']\n",
    "slong = sloc.set_index('location').to_dict()['long']"
   ]
  },
  {
   "cell_type": "code",
   "execution_count": 5,
   "metadata": {},
   "outputs": [],
   "source": [
    "jobs['lat'] = jobs['region'].map(lat).astype(float)\n",
    "jobs['long'] = jobs['region'].map(long).astype(float)\n",
    "seek['lat'] = seek['city'].map(slat).astype(float)\n",
    "seek['long'] = seek['city'].map(slong).astype(float)\n",
    "jobs = jobs.dropna(axis=0, subset = ['lat', 'long'])\n",
    "seek = seek.dropna(axis = 0, subset = ['lat', 'long'])"
   ]
  },
  {
   "cell_type": "code",
   "execution_count": 6,
   "metadata": {},
   "outputs": [],
   "source": [
    "aus_coord = (-28, 133)"
   ]
  },
  {
   "cell_type": "code",
   "execution_count": 7,
   "metadata": {},
   "outputs": [],
   "source": [
    "m = folium.Map(location=aus_coord, zoom_start=5,tiles='CartoDBPositron')\n"
   ]
  },
  {
   "cell_type": "code",
   "execution_count": 8,
   "metadata": {},
   "outputs": [],
   "source": [
    "jobs['date_listed'] = pd.to_datetime(jobs['date_listed'], format='%d/%m/%Y')\n",
    "seek['post_date'] = pd.to_datetime(seek['post_date'], format = '%Y-%m-%d')"
   ]
  },
  {
   "cell_type": "code",
   "execution_count": 9,
   "metadata": {},
   "outputs": [],
   "source": [
    "year = jobs.date_listed.dt.strftime('%Y').astype(int)\n",
    "jobs['year'] = year\n",
    "month = jobs.date_listed.dt.strftime('%m').astype(int)\n",
    "jobs['month'] = month\n",
    "day = jobs.date_listed.dt.strftime('%d').astype(int)\n",
    "jobs['day'] = day\n",
    "\n",
    "year = seek.post_date.dt.strftime('%Y').astype(int)\n",
    "seek['year'] = year\n",
    "month = seek.post_date.dt.strftime('%m').astype(int)\n",
    "seek['month'] = month\n",
    "day = seek.post_date.dt.strftime('%d').astype(int)\n",
    "seek['day'] = day"
   ]
  },
  {
   "cell_type": "code",
   "execution_count": 10,
   "metadata": {},
   "outputs": [],
   "source": [
    "jobs_2 = jobs.drop(columns={\"anzsco1_code\",\"anzsco2_code\",\"anzsco4_code\",\"anzsco_2dig_title\",\"anzsco_4dig_title\",\"skill_level\",\"job_location\",\"region\"})\n",
    "seek_2 = seek.drop(columns = {\"pageurl\",\"crawl_timestamp\",\"company_name\",\"job_description\", 'job_board', 'job_type', 'salary_offered','state','city'})"
   ]
  },
  {
   "cell_type": "code",
   "execution_count": null,
   "metadata": {},
   "outputs": [],
   "source": []
  },
  {
   "cell_type": "code",
   "execution_count": 11,
   "metadata": {},
   "outputs": [],
   "source": [
    "mapdf = pd.DataFrame(columns=['category','title','type','lat','long','year','month','day', 'state'])\n",
    "jobs_2.rename(columns = { 'job_classification' : 'category',\n",
    "                        'job_title' : 'title',\n",
    "                        'date_listed' : 'date'}, inplace = True) \n",
    "seek_2.rename(columns = { 'job_title' : 'title',\n",
    "                        'job_type' : 'type',\n",
    "                        'geo' : 'state',\n",
    "                        'post_date' : 'date'}, inplace = True) "
   ]
  },
  {
   "cell_type": "code",
   "execution_count": 12,
   "metadata": {},
   "outputs": [],
   "source": [
    "mapdf = pd.concat([jobs_2, seek_2], keys = ['jobs', 'seek'], sort = False)"
   ]
  },
  {
   "cell_type": "code",
   "execution_count": 13,
   "metadata": {},
   "outputs": [],
   "source": [
    "mapdf.loc[mapdf.title.str.contains(\"Manag\",na=False)|mapdf.title.str.contains(\"MANAG\",na=False)|mapdf.title.str.contains(\"CEO\",na=False)|mapdf.title.str.contains(\"Executive\",na=False)|mapdf.title.str.contains(\"EXECUTIVE\",na=False)|mapdf.title.str.contains(\"Coordinator\",na=False)|mapdf.title.str.contains(\"Admin\",na=False)|mapdf.title.str.contains(\"ADMIN\",na=False)|mapdf.title.str.contains(\"Business\",na=False)|mapdf.title.str.contains(\"Chief\",na=False)|mapdf.title.str.contains(\"Director\",na=False), 'category'] = 'Management'\n",
    "mapdf.loc[mapdf.title.str.contains(\"Assistant\",na=False), 'category'] = 'Assistant'\n",
    "mapdf.loc[mapdf.category.str.contains(\"Admin\", na=False)|mapdf.category.str.contains(\"PROF\", na=False)|mapdf.category.str.contains(\"ADMIN\", na=False)|mapdf.category.str.contains(\"OFFICE\", na=False)|mapdf.category.str.contains(\"Office\", na=False)|mapdf.category.str.contains(\"SEC\",na=False), 'category'] = 'Assistant'\n",
    "mapdf.loc[mapdf.title.str.contains(\"Specialist\",na=False), 'category'] = 'Other'\n",
    "mapdf.loc[mapdf.title.str.contains(\"Financial\",na=False)|mapdf.title.str.contains(\"Finance\",na=False)|mapdf.title.str.contains(\"Trade\",na=False)|mapdf.title.str.contains(\"Account\",na=False)|mapdf.title.str.contains(\"Credit\",na=False)|mapdf.title.str.contains(\"Economist\",na=False), 'category'] = 'Finance'\n",
    "mapdf.loc[mapdf.title.str.contains(\"Engineer\",na=False), 'category'] = 'Engineering'\n",
    "mapdf.loc[mapdf.title.str.contains(\"Sales\",na=False)|mapdf.title.str.contains(\"Auditor\",na=False), 'category'] = 'Sales'\n",
    "mapdf.loc[mapdf.title.str.contains(\"Lawyer\",na=False), 'category'] = 'Other'\n",
    "mapdf.loc[mapdf.title.str.contains(\"Programmer\",na=False)|mapdf.title.str.contains(\"Developer\",na=False)|mapdf.title.str.contains(\"IT\",na=False)|mapdf.title.str.contains(\"Data\",na=False), 'category'] = 'IT'\n",
    "mapdf.loc[mapdf.title.str.contains(\"Medical\",na=False)|mapdf.title.str.contains(\"Doctor\",na=False), 'category'] = 'Medical'\n",
    "mapdf.loc[mapdf.title.str.contains(\"Intern\",na=False), 'category'] = 'Other'\n",
    "mapdf.loc[mapdf.title.str.contains(\"Trade\",na=False), 'category'] = 'Trade'\n",
    "mapdf.loc[mapdf.title.str.contains(\"Designer\",na=False), 'category'] = 'Design'\n",
    "mapdf.loc[mapdf.category.str.contains(\"Trade\", na=False)|mapdf.category.str.contains(\"TRADE\", na=False)|mapdf.category.str.contains(\"Service\", na=False)|mapdf.category.str.contains(\"SERVICE\", na=False), 'category'] = 'Trade'\n",
    "mapdf.loc[mapdf.category.str.contains(\"Gov\", na=False)|mapdf.category.str.contains(\"GOV\", na=False)|mapdf.category.str.contains(\"INTEL\", na=False)|mapdf.category.str.contains(\"EMERG\", na=False)|mapdf.category.str.contains(\"ANAL\", na=False)|mapdf.category.str.contains(\"DEFEN\", na=False)|mapdf.category.str.contains(\"POLICE\", na=False), 'category'] = 'Government'\n",
    "mapdf.loc[mapdf.category.str.contains(\"Transport\", na=False)|mapdf.category.str.contains(\"Drive\", na=False)|mapdf.category.str.contains(\"DRIV\", na=False)|mapdf.category.str.contains(\"TRANSPORT\", na=False)|mapdf.category.str.contains(\"DRIVE\",na=False)|mapdf.category.str.contains(\"DELIVER\",na=False)|mapdf.category.str.contains(\"VEHICLE\",na=False), 'category'] = 'Distribution'\n",
    "mapdf.loc[mapdf.category.str.contains(\"ICT\", na=False)|mapdf.category.str.contains(\"IT\", na=False)|mapdf.category.str.contains(\"PROGRAM\",na=False), 'category'] = 'IT'\n",
    "mapdf.loc[mapdf.category.str.contains(\"FOOD\", na=False)|mapdf.category.str.contains(\"CAFE\", na=False)|mapdf.category.str.contains(\"RESTAURANT\", na=False), 'category'] = 'Food'\n",
    "mapdf.loc[mapdf.category.str.contains(\"RETAIL\", na=False)|mapdf.category.str.contains(\"FASHION\", na=False), 'category'] = 'Sales'\n",
    "mapdf.loc[mapdf.category.str.contains(\"FINANC\", na=False)|mapdf.category.str.contains(\"ECO\",na=False) |mapdf.category.str.contains(\"STAT\", na=False)|mapdf.category.str.contains(\"ACCOUNT\", na=False), 'category'] = 'Finance'\n",
    "mapdf.loc[mapdf.category.str.contains(\"MANAG\", na=False)|mapdf.category.str.contains(\"Manag\", na=False), 'category'] = 'Management'\n",
    "mapdf.loc[mapdf.category.str.contains(\"SALE\", na=False)|mapdf.category.str.contains(\"ADVERT\", na=False)|mapdf.category.str.contains(\"Market\", na=False), 'category'] = 'Sales'\n",
    "mapdf.loc[mapdf.category.str.contains(\"ENGINE\", na=False)|mapdf.category.str.contains(\"TECH\", na=False)|mapdf.category.str.contains(\"Tech\", na=False), 'category'] = 'Engineering'\n",
    "mapdf.loc[mapdf.category.str.contains(\"SCIEN\", na=False)|mapdf.category.str.contains(\"Sci\", na=False), 'category'] = 'Science'\n",
    "mapdf.loc[mapdf.category.str.contains(\"FARM\", na=False)|mapdf.category.str.contains(\"Farm\", na=False)|mapdf.category.str.contains(\"GARD\", na=False)|mapdf.category.str.contains(\"FISH\", na=False)|mapdf.category.str.contains(\"ANI\",na=False), 'category'] = 'Farming'\n",
    "mapdf.loc[mapdf.category.str.contains(\"OPERAT\", na=False)|mapdf.category.str.contains(\"LAB\", na=False)|mapdf.category.str.contains(\"ASS\", na=False)|mapdf.category.str.contains(\"FACT\",na=False)|mapdf.category.str.contains(\"BUILD\",na=False)|mapdf.category.str.contains(\"PLUM\", na=False)|mapdf.category.str.contains(\"ELEC\", na=False)|mapdf.category.str.contains(\"CARP\",na=False)|mapdf.category.str.contains(\"HAND\",na=False), 'category'] = 'Trade'\n",
    "mapdf.loc[mapdf.category.str.contains(\"SCHOOL\", na=False)|mapdf.category.str.contains(\"LIB\", na=False)|mapdf.category.str.contains(\"EDU\", na=False)|mapdf.category.str.contains(\"Edu\", na=False)|mapdf.category.str.contains(\"TUT\",na=False)|mapdf.category.str.contains(\"TEACH\",na=False)|mapdf.category.str.contains(\"COACH\", na=False)|mapdf.category.str.contains(\"TRAI\", na=False), 'category'] = 'Education'\n",
    "mapdf.loc[mapdf.category.str.contains(\"FILM\", na=False)|mapdf.category.str.contains(\"MEDIA\", na=False)|mapdf.category.str.contains(\"Media\", na=False)|mapdf.category.str.contains(\"ILLUS\", na=False)|mapdf.category.str.contains(\"ART\", na=False)|mapdf.category.str.contains(\"PHOTO\", na=False)|mapdf.category.str.contains(\"ACT\", na=False)|mapdf.category.str.contains(\"DANCE\", na=False)|mapdf.category.str.contains(\"MUS\", na=False), 'category'] = 'Media'\n",
    "mapdf.loc[mapdf.category.str.contains(\"NUR\", na=False)|mapdf.category.str.contains(\"DOC\", na=False)|mapdf.category.str.contains(\"GEO\",na=False)|mapdf.category.str.contains(\"MED\", na=False)|mapdf.category.str.contains(\"MID\", na=False)|mapdf.category.str.contains(\"HEAL\", na=False)|mapdf.category.str.contains(\"SAFE\", na=False)|mapdf.category.str.contains(\"THERA\", na=False)|mapdf.category.str.contains(\"PHAR\", na=False), 'category'] = 'Medical'\n",
    "\n",
    "mapdf.loc[mapdf.title.str.contains(\"Customer\",na=False)|mapdf.title.str.contains(\"Service\",na=False)|mapdf.title.str.contains(\"Marketing\",na=False), 'category'] = 'Service'\n",
    "mapdf.loc[mapdf.title.str.contains(\"Drive\",na=False)|mapdf.title.str.contains(\"Distibutor\",na=False)|mapdf.title.str.contains(\"Regional\",na=False)|mapdf.title.str.contains(\"Transportation\",na=False), 'category'] = 'Distribution'\n",
    "mapdf.loc[mapdf.title.str.contains(\"Designer\",na=False)|mapdf.title.str.contains(\"Media\",na=False)|mapdf.title.str.contains(\"Journalists\",na=False)|mapdf.title.str.contains(\"Journalism\",na=False)|mapdf.title.str.contains(\"Journalist\",na=False), 'category'] = 'Media'\n",
    "mapdf.loc[mapdf.title.str.contains(\"Farm\",na=False)|mapdf.title.str.contains(\"FARM\",na=False)|mapdf.title.str.contains(\"PLANT\",na=False)|mapdf.title.str.contains(\"Plant\",na=False), 'category'] = 'Farming'"
   ]
  },
  {
   "cell_type": "code",
   "execution_count": 14,
   "metadata": {},
   "outputs": [],
   "source": [
    "mapdf = mapdf.loc[(mapdf['category'] == 'Management')|(mapdf['category'] == 'Assistant')|(mapdf['category'] == 'Finance')|(mapdf['category'] == 'Engineering')|(mapdf['category'] == 'Sales')|(mapdf['category'] == 'Trade')|(mapdf['category'] == 'Depecialistign')|(mapdf['category'] == 'Medical')|(mapdf['category'] == 'Government')|(mapdf['category'] == 'Food')|(mapdf['category'] == 'IT')|(mapdf['category'] == 'Science')|(mapdf['category'] == 'Farming')|(mapdf['category'] == 'Education')|(mapdf['category'] == 'Distribution')|(mapdf['category'] == 'Media')]"
   ]
  },
  {
   "cell_type": "code",
   "execution_count": 15,
   "metadata": {},
   "outputs": [],
   "source": [
    "def generateBaseMap(default_location=[-28,133], default_zoom_start=20):\n",
    "    base_map = folium.Map(location=default_location, control_scale=True, zoom_start=5)\n",
    "    return base_map"
   ]
  },
  {
   "cell_type": "code",
   "execution_count": 16,
   "metadata": {},
   "outputs": [],
   "source": [
    "base_map = generateBaseMap()"
   ]
  },
  {
   "cell_type": "code",
   "execution_count": 17,
   "metadata": {},
   "outputs": [],
   "source": [
    "from folium.plugins import HeatMap\n",
    "map_copy = mapdf.copy()\n",
    "map_copy['count'] = 1"
   ]
  },
  {
   "cell_type": "markdown",
   "metadata": {},
   "source": [
    "## Map of Australia\n",
    "Use the interactive widgets to select the years and jobs you would like to analyuse then click update to see the distribution of jobs around the country."
   ]
  },
  {
   "cell_type": "code",
   "execution_count": 18,
   "metadata": {},
   "outputs": [
    {
     "data": {
      "application/vnd.jupyter.widget-view+json": {
       "model_id": "d43a49979fa04fccaa0514d44bfb319c",
       "version_major": 2,
       "version_minor": 0
      },
      "text/plain": [
       "IntRangeSlider(value=(2009, 2018), description='Year:', max=2018, min=2009)"
      ]
     },
     "metadata": {},
     "output_type": "display_data"
    },
    {
     "data": {
      "application/vnd.jupyter.widget-view+json": {
       "model_id": "27c1391c4d21408b9b0a2d98440c3ed9",
       "version_major": 2,
       "version_minor": 0
      },
      "text/plain": [
       "SelectMultiple(description='Categories', options=('Management', 'Assistant', 'Farming', 'Trade', 'Sales', 'IT'…"
      ]
     },
     "metadata": {},
     "output_type": "display_data"
    },
    {
     "data": {
      "application/vnd.jupyter.widget-view+json": {
       "model_id": "ea1db8fc3db44d6cbed5bba8ebd869fa",
       "version_major": 2,
       "version_minor": 0
      },
      "text/plain": [
       "Button(button_style='success', description='Update', style=ButtonStyle(), tooltip='Update graph')"
      ]
     },
     "metadata": {},
     "output_type": "display_data"
    },
    {
     "data": {
      "application/vnd.jupyter.widget-view+json": {
       "model_id": "a07551e9a2da4e1aa38a479bea87add5",
       "version_major": 2,
       "version_minor": 0
      },
      "text/plain": [
       "Output()"
      ]
     },
     "metadata": {},
     "output_type": "display_data"
    }
   ],
   "source": [
    "b = widgets.IntRangeSlider(\n",
    "    value=[2009, 2018],\n",
    "    min=2009,\n",
    "    max=2018,\n",
    "    step=1,\n",
    "    description='Year:',\n",
    "    disabled=False,\n",
    "    continuous_update=True,\n",
    "    orientation='horizontal',\n",
    "    readout=True,\n",
    "    readout_format='d',\n",
    ")\n",
    "\n",
    "u = widgets.Button(\n",
    "    description='Update',\n",
    "    disabled=False,\n",
    "    button_style='success', # 'success', 'info', 'warning', 'danger' or ''\n",
    "    tooltip='Update graph',\n",
    "    icon=''\n",
    ")\n",
    "\n",
    "c = widgets.SelectMultiple(\n",
    "    options=mapdf.category.unique(),\n",
    "    values = mapdf.category.unique(),\n",
    "    rows=19,\n",
    "    description='Categories',\n",
    "    disabled=False\n",
    ")\n",
    "\n",
    "mapping = widgets.Output()\n",
    "graphing = widgets.Output()\n",
    "scattering = widgets.Output()\n",
    "def on_button_clicked(btn):\n",
    "    base_map = generateBaseMap()\n",
    "    map_year = map_copy[map_copy['year'].isin(b.value)]\n",
    "    map_year = map_year[map_year['category'].isin(c.value)]\n",
    "    \n",
    "    HeatMap(data=map_year[['lat', 'long', 'count']].groupby(['lat', 'long']).sum().reset_index().values.tolist(), radius=15, max_zoom=13).add_to(base_map)\n",
    "    with mapping:\n",
    "        clear_output()\n",
    "        display(base_map)\n",
    "\n",
    "u.on_click(on_button_clicked)\n",
    "\n",
    "display(b, c, u, mapping)"
   ]
  },
  {
   "cell_type": "code",
   "execution_count": 19,
   "metadata": {},
   "outputs": [],
   "source": [
    "cats = ['Assistant', 'Distribution', 'Education', 'Engineering', 'Farming', 'Finance', 'Food', 'Government', 'IT', 'Management', 'Media', 'Medical', 'Sales', 'Trade']"
   ]
  },
  {
   "cell_type": "markdown",
   "metadata": {},
   "source": [
    "## Bar plot for states\n",
    "Use the widgets to pick states to compare and see comparisons for the number of some of the most popular jobs listed."
   ]
  },
  {
   "cell_type": "code",
   "execution_count": 20,
   "metadata": {},
   "outputs": [
    {
     "data": {
      "application/vnd.jupyter.widget-view+json": {
       "model_id": "eba42337bd734bba9641c2a95b9bcffa",
       "version_major": 2,
       "version_minor": 0
      },
      "text/plain": [
       "Checkbox(value=False, description='SA')"
      ]
     },
     "metadata": {},
     "output_type": "display_data"
    },
    {
     "data": {
      "application/vnd.jupyter.widget-view+json": {
       "model_id": "3ea82f7b361941af9bee3cba5f9500de",
       "version_major": 2,
       "version_minor": 0
      },
      "text/plain": [
       "Checkbox(value=False, description='NSW')"
      ]
     },
     "metadata": {},
     "output_type": "display_data"
    },
    {
     "data": {
      "application/vnd.jupyter.widget-view+json": {
       "model_id": "a5f0b964ff7d4e68962d7a23dce066ba",
       "version_major": 2,
       "version_minor": 0
      },
      "text/plain": [
       "Checkbox(value=False, description='VIC')"
      ]
     },
     "metadata": {},
     "output_type": "display_data"
    },
    {
     "data": {
      "application/vnd.jupyter.widget-view+json": {
       "model_id": "56c5e6ca02754519b5d2a1f262c90767",
       "version_major": 2,
       "version_minor": 0
      },
      "text/plain": [
       "Checkbox(value=False, description='QLD')"
      ]
     },
     "metadata": {},
     "output_type": "display_data"
    },
    {
     "data": {
      "application/vnd.jupyter.widget-view+json": {
       "model_id": "fc198aff15ac4866b10a02ea43b17afb",
       "version_major": 2,
       "version_minor": 0
      },
      "text/plain": [
       "Checkbox(value=False, description='WA')"
      ]
     },
     "metadata": {},
     "output_type": "display_data"
    },
    {
     "data": {
      "application/vnd.jupyter.widget-view+json": {
       "model_id": "3f32cc88f9324661a809a982f16f50f7",
       "version_major": 2,
       "version_minor": 0
      },
      "text/plain": [
       "Checkbox(value=False, description='TAS')"
      ]
     },
     "metadata": {},
     "output_type": "display_data"
    },
    {
     "data": {
      "application/vnd.jupyter.widget-view+json": {
       "model_id": "29b5f7da4793403686ef6a69425ec3a3",
       "version_major": 2,
       "version_minor": 0
      },
      "text/plain": [
       "Checkbox(value=False, description='NT')"
      ]
     },
     "metadata": {},
     "output_type": "display_data"
    },
    {
     "data": {
      "application/vnd.jupyter.widget-view+json": {
       "model_id": "b4bf3ef1e05f416d9d94184757d4fd65",
       "version_major": 2,
       "version_minor": 0
      },
      "text/plain": [
       "Button(button_style='success', description='Update', style=ButtonStyle(), tooltip='Update graph')"
      ]
     },
     "metadata": {},
     "output_type": "display_data"
    },
    {
     "data": {
      "application/vnd.jupyter.widget-view+json": {
       "model_id": "ffd94360ea5e43548a2e04d7d2be5d34",
       "version_major": 2,
       "version_minor": 0
      },
      "text/plain": [
       "Output()"
      ]
     },
     "metadata": {},
     "output_type": "display_data"
    }
   ],
   "source": [
    "c_sa = widgets.Checkbox(\n",
    "    value=False,\n",
    "    description='SA',\n",
    "    disabled=False\n",
    ")\n",
    "c_nsw = widgets.Checkbox(\n",
    "    value=False,\n",
    "    description='NSW',\n",
    "    disabled=False\n",
    ")\n",
    "c_vic = widgets.Checkbox(\n",
    "    value=False,\n",
    "    description='VIC',\n",
    "    disabled=False\n",
    ")\n",
    "c_qld = widgets.Checkbox(\n",
    "    value=False,\n",
    "    description='QLD',\n",
    "    disabled=False\n",
    ")\n",
    "c_wa = widgets.Checkbox(\n",
    "    value=False,\n",
    "    description='WA',\n",
    "    disabled=False\n",
    ")\n",
    "c_tas = widgets.Checkbox(\n",
    "    value=False,\n",
    "    description='TAS',\n",
    "    disabled=False\n",
    ")\n",
    "c_nt = widgets.Checkbox(\n",
    "    value=False,\n",
    "    description='NT',\n",
    "    disabled=False\n",
    ")\n",
    "\n",
    "up = widgets.Button(\n",
    "    description='Update',\n",
    "    disabled=False,\n",
    "    button_style='success', # 'success', 'info', 'warning', 'danger' or ''\n",
    "    tooltip='Update graph',\n",
    "    icon=''\n",
    ")\n",
    "\n",
    "g_sa  = mapdf[mapdf['state'] == 'SA']\n",
    "g_nsw = mapdf[mapdf['state'] == 'NSW']\n",
    "g_vic = mapdf[mapdf['state'] == 'VIC']\n",
    "g_qld = mapdf[mapdf['state'] == 'QLD']\n",
    "g_wa = mapdf[mapdf['state'] == 'WA']\n",
    "g_tas = mapdf[mapdf['state'] == 'TAS']\n",
    "g_nt = mapdf[mapdf['state'] == 'NT']\n",
    "\n",
    "g_sa = g_sa.groupby(['category']).count().state\n",
    "g_nsw = g_nsw.groupby(['category']).count().title\n",
    "g_vic = g_vic.groupby(['category']).count().state\n",
    "g_qld = g_qld.groupby(['category']).count().state\n",
    "g_wa = g_wa.groupby(['category']).count().state\n",
    "g_tas = g_tas.groupby(['category']).count().state\n",
    "g_nt = g_nt.groupby(['category']).count().state\n",
    "\n",
    "def update(btn):\n",
    "    fig = go.Figure()\n",
    "    if c_sa.value == True:\n",
    "        fig.add_trace(go.Bar(name = 'SA', x = cats, y = g_sa))\n",
    "    if c_nsw.value == True:\n",
    "        fig.add_trace(go.Bar(name = 'NSW', x = cats, y = g_nsw))\n",
    "    if c_vic.value == True:\n",
    "        fig.add_trace(go.Bar(name = 'VIC', x = cats, y = g_vic))\n",
    "    if c_wa.value == True:\n",
    "        fig.add_trace(go.Bar(name = 'WA', x = cats, y = g_wa))\n",
    "    if c_nt.value == True:\n",
    "        fig.add_trace(go.Bar(name = 'NT', x = cats, y = g_nt))\n",
    "    if c_qld.value == True:\n",
    "        fig.add_trace(go.Bar(name = 'QLD', x = cats, y = g_qld))\n",
    "    if c_tas.value == True:\n",
    "        fig.add_trace(go.Bar(name = 'TAS', x = cats, y = g_tas))\n",
    "    fig.update_layout(title = \"Number of jobs in different states\", barmode='group', xaxis_title = 'Job category', yaxis_title = 'Count of jobs')\n",
    "    with graphing:\n",
    "        clear_output()\n",
    "        fig.show()\n",
    "\n",
    "up.on_click(update)\n",
    "    \n",
    "display(c_sa,c_nsw,c_vic,c_qld,c_wa,c_tas,c_nt, up, graphing)"
   ]
  },
  {
   "cell_type": "code",
   "execution_count": 21,
   "metadata": {},
   "outputs": [],
   "source": [
    "nyc = pd.read_csv(\"./nyc-jobs.csv\", index_col = ['Job ID'], encoding='latin1')"
   ]
  },
  {
   "cell_type": "code",
   "execution_count": 22,
   "metadata": {},
   "outputs": [],
   "source": [
    "nyc['Posting Date'] = pd.to_datetime(nyc['Posting Date'], format='%Y-%m-%dT%H:%M:%S.%f')"
   ]
  },
  {
   "cell_type": "code",
   "execution_count": 23,
   "metadata": {},
   "outputs": [],
   "source": [
    "nyc.columns = [col.replace(' ', '_').lower() for col in nyc.columns]"
   ]
  },
  {
   "cell_type": "code",
   "execution_count": 24,
   "metadata": {},
   "outputs": [],
   "source": [
    "annual = nyc.loc[~nyc.index.duplicated(keep='first')]"
   ]
  },
  {
   "cell_type": "code",
   "execution_count": 25,
   "metadata": {},
   "outputs": [],
   "source": [
    "annual = annual[(annual.job_category == 'Engineering, Architecture, & Planning')|(annual.job_category == 'Technology, Data & Innovation')|(annual.job_category == 'Public Safety, Inspections, & Enforcement')|(annual.job_category == 'Legal Affairs')|(annual.job_category == 'Finance, Accounting, & Procurement')|(annual.job_category == 'Constituent Services & Community Programs')]"
   ]
  },
  {
   "cell_type": "markdown",
   "metadata": {},
   "source": [
    "## Scatter plot of salaries\n",
    "Use the widgets to pick salaries to compare, then click update to see the spread of salaries in differnt fields over time"
   ]
  },
  {
   "cell_type": "code",
   "execution_count": 26,
   "metadata": {},
   "outputs": [
    {
     "data": {
      "application/vnd.jupyter.widget-view+json": {
       "model_id": "e41c8837eab142a7ada6329c1104cef8",
       "version_major": 2,
       "version_minor": 0
      },
      "text/plain": [
       "Checkbox(value=False, description='Engineering')"
      ]
     },
     "metadata": {},
     "output_type": "display_data"
    },
    {
     "data": {
      "application/vnd.jupyter.widget-view+json": {
       "model_id": "5a1cbab621834e7a8a14e670fba7479e",
       "version_major": 2,
       "version_minor": 0
      },
      "text/plain": [
       "Checkbox(value=False, description='ICT')"
      ]
     },
     "metadata": {},
     "output_type": "display_data"
    },
    {
     "data": {
      "application/vnd.jupyter.widget-view+json": {
       "model_id": "9e15636b03f648a2961adbbe7ca121f1",
       "version_major": 2,
       "version_minor": 0
      },
      "text/plain": [
       "Checkbox(value=False, description='Legal')"
      ]
     },
     "metadata": {},
     "output_type": "display_data"
    },
    {
     "data": {
      "application/vnd.jupyter.widget-view+json": {
       "model_id": "821913208d1342b1848b982824e7a196",
       "version_major": 2,
       "version_minor": 0
      },
      "text/plain": [
       "Checkbox(value=False, description='Public')"
      ]
     },
     "metadata": {},
     "output_type": "display_data"
    },
    {
     "data": {
      "application/vnd.jupyter.widget-view+json": {
       "model_id": "0b7b3fb6ccdc4c4789d5dd822805a221",
       "version_major": 2,
       "version_minor": 0
      },
      "text/plain": [
       "Checkbox(value=False, description='Finance')"
      ]
     },
     "metadata": {},
     "output_type": "display_data"
    },
    {
     "data": {
      "application/vnd.jupyter.widget-view+json": {
       "model_id": "17e0938ca84b4149a530308b11776f5e",
       "version_major": 2,
       "version_minor": 0
      },
      "text/plain": [
       "Checkbox(value=False, description='Community')"
      ]
     },
     "metadata": {},
     "output_type": "display_data"
    },
    {
     "data": {
      "application/vnd.jupyter.widget-view+json": {
       "model_id": "7d42ec99ae6b4c3b88e48a808fe29b8e",
       "version_major": 2,
       "version_minor": 0
      },
      "text/plain": [
       "Button(button_style='success', description='Update', style=ButtonStyle(), tooltip='Update graph')"
      ]
     },
     "metadata": {},
     "output_type": "display_data"
    },
    {
     "data": {
      "application/vnd.jupyter.widget-view+json": {
       "model_id": "3d6b2aa811ba4e2893c1c557f4d1de8c",
       "version_major": 2,
       "version_minor": 0
      },
      "text/plain": [
       "Output()"
      ]
     },
     "metadata": {},
     "output_type": "display_data"
    }
   ],
   "source": [
    "c_eng = widgets.Checkbox(\n",
    "    value=False,\n",
    "    description='Engineering',\n",
    "    disabled=False\n",
    ")\n",
    "c_ict = widgets.Checkbox(\n",
    "    value=False,\n",
    "    description='ICT',\n",
    "    disabled=False\n",
    ")\n",
    "c_public = widgets.Checkbox(\n",
    "    value=False,\n",
    "    description='Public',\n",
    "    disabled=False\n",
    ")\n",
    "c_legal = widgets.Checkbox(\n",
    "    value=False,\n",
    "    description='Legal',\n",
    "    disabled=False\n",
    ")\n",
    "c_finance = widgets.Checkbox(\n",
    "    value=False,\n",
    "    description='Finance',\n",
    "    disabled=False\n",
    ")\n",
    "c_community = widgets.Checkbox(\n",
    "    value=False,\n",
    "    description='Community',\n",
    "    disabled=False\n",
    ")\n",
    "\n",
    "new = widgets.Button(\n",
    "    description='Update',\n",
    "    disabled=False,\n",
    "    button_style='success', # 'success', 'info', 'warning', 'danger' or ''\n",
    "    tooltip='Update graph',\n",
    "    icon=''\n",
    ")\n",
    "\n",
    "x = annual.posting_date\n",
    "eng = annual[(annual.job_category == 'Engineering, Architecture, & Planning')].salary_range_from\n",
    "it = annual[(annual.job_category == 'Technology, Data & Innovation')].salary_range_from\n",
    "public = annual[(annual.job_category == 'Public Safety, Inspections, & Enforcement')].salary_range_from\n",
    "legal = annual[(annual.job_category == 'Legal Affairs')].salary_range_from\n",
    "finance = annual[(annual.job_category == 'Finance, Accounting, & Procurement')].salary_range_from\n",
    "community = annual[(annual.job_category == 'Constituent Services & Community Programs')].salary_range_from\n",
    "\n",
    "def update(btn):\n",
    "    fig = go.Figure()\n",
    "    if c_eng.value == True:\n",
    "        fig.add_trace(go.Scatter(\n",
    "            x=x, y=eng, mode= 'markers', name = \"Engineering\", marker_color = 'rgba(255,0,0,1)'))\n",
    "    if c_ict.value == True:\n",
    "        fig.add_trace(go.Scatter(\n",
    "            x=x, y=it, mode= 'markers', name = \"ICT\", marker_color = 'rgba(128,128,0,1)'))\n",
    "    if c_public.value == True:\n",
    "        fig.add_trace(go.Scatter(\n",
    "            x=x, y=public, mode= 'markers', name = \"Public\", marker_color = 'rgba(0,255,0,1)'))\n",
    "    if c_legal.value == True:\n",
    "        fig.add_trace(go.Scatter(\n",
    "            x=x, y=legal, mode= 'markers', name = \"Legal\", marker_color = 'rgba(0,0,255,1)'))\n",
    "    if c_finance.value == True:\n",
    "        fig.add_trace(go.Scatter(\n",
    "            x=x, y=finance, mode= 'markers', name = \"Finance\", marker_color = 'rgba(128,0,128,1)'))\n",
    "    if c_community.value == True:\n",
    "        fig.add_trace(go.Scatter(\n",
    "            x=x, y=community, mode= 'markers', name = \"Community\", marker_color = 'rgba(0,128,128,1)'))\n",
    "    fig.update_layout(title = \"Compare Salaies in Different Fields\", xaxis_title = 'Date of job posting', yaxis_title = 'Salary in $')\n",
    "    with scattering:\n",
    "        clear_output()\n",
    "        fig.show()\n",
    "        \n",
    "new.on_click(update)\n",
    "display(c_eng, c_ict, c_legal, c_public, c_finance, c_community, new, scattering)"
   ]
  }
 ],
 "metadata": {
  "kernelspec": {
   "display_name": "Python 3",
   "language": "python",
   "name": "python3"
  },
  "language_info": {
   "codemirror_mode": {
    "name": "ipython",
    "version": 3
   },
   "file_extension": ".py",
   "mimetype": "text/x-python",
   "name": "python",
   "nbconvert_exporter": "python",
   "pygments_lexer": "ipython3",
   "version": "3.7.4"
  }
 },
 "nbformat": 4,
 "nbformat_minor": 4
}
